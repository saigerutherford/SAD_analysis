{
 "cells": [
  {
   "cell_type": "code",
   "execution_count": 1,
   "metadata": {},
   "outputs": [],
   "source": [
    "import pandas as pd\n",
    "import numpy as np\n",
    "import seaborn as sns\n",
    "import matplotlib.pyplot as plt\n",
    "from scipy.stats import ttest_ind\n",
    "from scipy.stats import chisquare, chi2_contingency\n",
    "from scipy.stats import pearsonr\n",
    "import statsmodels"
   ]
  },
  {
   "cell_type": "markdown",
   "metadata": {},
   "source": [
    "# **SAD data**"
   ]
  },
  {
   "cell_type": "code",
   "execution_count": 2,
   "metadata": {},
   "outputs": [],
   "source": [
    "dfLt = pd.read_csv('SAD_lh_thickness_stats.csv')\n",
    "dfRt = pd.read_csv('SAD_rh_thickness_stats.csv')\n",
    "sublist = pd.read_csv('scanfile_combined.csv')\n",
    "pheno_demo = pd.read_csv('pheno_demo_combined.csv')\n",
    "func = pd.read_csv('BNA_significantROIs.csv')"
   ]
  },
  {
   "cell_type": "code",
   "execution_count": 3,
   "metadata": {},
   "outputs": [],
   "source": [
    "df_temp1 = pd.merge(sublist, dfLt, on='Subject', how='inner')"
   ]
  },
  {
   "cell_type": "code",
   "execution_count": 4,
   "metadata": {},
   "outputs": [],
   "source": [
    "df_temp2 = pd.merge(df_temp1, dfRt, on='Subject', how='inner')"
   ]
  },
  {
   "cell_type": "code",
   "execution_count": 5,
   "metadata": {},
   "outputs": [],
   "source": [
    "df = pd.merge(df_temp2, func, on='Subject', how='inner')"
   ]
  },
  {
   "cell_type": "code",
   "execution_count": 6,
   "metadata": {},
   "outputs": [],
   "source": [
    "df2 = pd.merge(df, pheno_demo, on='Subject', how='inner')"
   ]
  },
  {
   "cell_type": "code",
   "execution_count": 7,
   "metadata": {},
   "outputs": [
    {
     "data": {
      "text/plain": [
       "1    140\n",
       "2    115\n",
       "Name: Group, dtype: int64"
      ]
     },
     "execution_count": 7,
     "metadata": {},
     "output_type": "execute_result"
    }
   ],
   "source": [
    "df2['Group'].value_counts()"
   ]
  },
  {
   "cell_type": "code",
   "execution_count": 8,
   "metadata": {},
   "outputs": [
    {
     "data": {
      "text/plain": [
       "(255, 95)"
      ]
     },
     "execution_count": 8,
     "metadata": {},
     "output_type": "execute_result"
    }
   ],
   "source": [
    "df2.shape"
   ]
  },
  {
   "cell_type": "code",
   "execution_count": 9,
   "metadata": {},
   "outputs": [],
   "source": [
    "SAD = df2[df2['Group']== 1]\n",
    "HC = df2[df2['Group']== 2]"
   ]
  },
  {
   "cell_type": "code",
   "execution_count": 10,
   "metadata": {},
   "outputs": [
    {
     "data": {
      "text/plain": [
       "1    140\n",
       "2    115\n",
       "Name: Group, dtype: int64"
      ]
     },
     "execution_count": 10,
     "metadata": {},
     "output_type": "execute_result"
    }
   ],
   "source": [
    "df2['Group'].value_counts()"
   ]
  },
  {
   "cell_type": "code",
   "execution_count": 11,
   "metadata": {},
   "outputs": [
    {
     "data": {
      "text/plain": [
       "2.0    98\n",
       "1.0    42\n",
       "Name: Gender, dtype: int64"
      ]
     },
     "execution_count": 11,
     "metadata": {},
     "output_type": "execute_result"
    }
   ],
   "source": [
    "SAD['Gender'].value_counts()"
   ]
  },
  {
   "cell_type": "code",
   "execution_count": 12,
   "metadata": {},
   "outputs": [
    {
     "data": {
      "text/plain": [
       "2.0    70\n",
       "1.0    43\n",
       "Name: Gender, dtype: int64"
      ]
     },
     "execution_count": 12,
     "metadata": {},
     "output_type": "execute_result"
    }
   ],
   "source": [
    "HC['Gender'].value_counts()"
   ]
  },
  {
   "cell_type": "code",
   "execution_count": 11,
   "metadata": {},
   "outputs": [
    {
     "data": {
      "text/plain": [
       "0.0     7\n",
       "10.0    6\n",
       "2.0     6\n",
       "11.0    6\n",
       "8.0     5\n",
       "4.0     5\n",
       "6.0     4\n",
       "1.0     4\n",
       "7.0     4\n",
       "20.0    4\n",
       "12.0    3\n",
       "3.0     3\n",
       "14.0    3\n",
       "17.0    3\n",
       "27.0    2\n",
       "18.0    2\n",
       "31.0    2\n",
       "34.0    1\n",
       "32.0    1\n",
       "29.0    1\n",
       "36.0    1\n",
       "16.0    1\n",
       "39.0    1\n",
       "26.0    1\n",
       "19.0    1\n",
       "21.0    1\n",
       "13.0    1\n",
       "24.0    1\n",
       "5.0     1\n",
       "25.0    1\n",
       "Name: LSAS_Total , dtype: int64"
      ]
     },
     "execution_count": 11,
     "metadata": {},
     "output_type": "execute_result"
    }
   ],
   "source": [
    "HC['LSAS_Total '].value_counts()"
   ]
  },
  {
   "cell_type": "code",
   "execution_count": 13,
   "metadata": {},
   "outputs": [
    {
     "data": {
      "text/plain": [
       "1    258\n",
       "Name: Include, dtype: int64"
      ]
     },
     "execution_count": 13,
     "metadata": {},
     "output_type": "execute_result"
    }
   ],
   "source": [
    "sublist['Include'].value_counts()"
   ]
  },
  {
   "cell_type": "code",
   "execution_count": null,
   "metadata": {},
   "outputs": [],
   "source": [
    "for column in df2.columns:\n",
    "    print(column)"
   ]
  },
  {
   "cell_type": "code",
   "execution_count": 14,
   "metadata": {},
   "outputs": [],
   "source": [
    "cols = df2.loc[:,'lh_bankssts_thickness':'precentral64_2'].columns"
   ]
  },
  {
   "cell_type": "code",
   "execution_count": 21,
   "metadata": {},
   "outputs": [
    {
     "name": "stdout",
     "output_type": "stream",
     "text": [
      "lh_bankssts_thickness 0.4788676603735181 0.6324463797717932\n",
      "lh_caudalanteriorcingulate_thickness -1.5247414053199924 0.12857264639569707\n",
      "lh_caudalmiddlefrontal_thickness 0.739011874898341 0.4605848441929101\n",
      "lh_cuneus_thickness 2.8351979657607234 0.004949744700543584\n",
      "lh_entorhinal_thickness -1.0021036623896253 0.3172509961188372\n",
      "lh_fusiform_thickness -0.718118741691252 0.4733466781844067\n",
      "lh_inferiorparietal_thickness 0.371131245136086 0.7108503640993344\n",
      "lh_inferiortemporal_thickness 0.4217954621131691 0.6735324901469298\n",
      "lh_isthmuscingulate_thickness -0.8493468764031228 0.39649126851694405\n",
      "lh_lateraloccipital_thickness 1.522542011549651 0.12912221951271916\n",
      "lh_lateralorbitofrontal_thickness 1.7495365106396146 0.08141080320116705\n",
      "lh_lingual_thickness 1.0135803351633679 0.311751382645595\n",
      "lh_medialorbitofrontal_thickness 1.1073338661049854 0.2692012844407949\n",
      "lh_middletemporal_thickness -0.37145751039072733 0.7106076830907657\n",
      "lh_parahippocampal_thickness -0.5319925904696737 0.5951979657434142\n",
      "lh_paracentral_thickness 1.3582902710587297 0.17558154616469862\n",
      "lh_parsopercularis_thickness 0.11768129691727557 0.9064135583873816\n",
      "lh_parsorbitalis_thickness 0.5261207518880469 0.5992651921542944\n",
      "lh_parstriangularis_thickness 1.161725400329245 0.24644182289657957\n",
      "lh_pericalcarine_thickness 2.018582493299877 0.04458572249438657\n",
      "lh_postcentral_thickness 0.75242258960792 0.452496440076087\n",
      "lh_posteriorcingulate_thickness 1.1187027320889618 0.26432801628761693\n",
      "lh_precentral_thickness 0.2789348697566756 0.7805226734816765\n",
      "lh_precuneus_thickness 1.3878893822950107 0.16639176222077234\n",
      "lh_rostralanteriorcingulate_thickness -2.2463402011242155 0.025545326533990623\n",
      "lh_rostralmiddlefrontal_thickness 1.5951686648360086 0.11192290548036171\n",
      "lh_superiorfrontal_thickness 0.7937862089883334 0.4280637658487403\n",
      "lh_superiorparietal_thickness 1.6267915873911147 0.1050261713430484\n",
      "lh_superiortemporal_thickness 0.16221493144636043 0.8712660802025107\n",
      "lh_supramarginal_thickness -0.9742696388558955 0.33085326233277157\n",
      "lh_frontalpole_thickness 1.1706291003129805 0.24284933659033286\n",
      "lh_temporalpole_thickness -1.6544816886265417 0.09926971277175746\n",
      "lh_transversetemporal_thickness 0.3491620504970666 0.7272580807026836\n",
      "lh_insula_thickness -0.45473445933758616 0.6496902180882016\n",
      "lh_MeanThickness_thickness 0.7852756237119479 0.4330267315612978\n",
      "BrainSegVolNotVent_x 1.1206516347293696 0.26349880064115705\n",
      "eTIV_x 0.9418837137836746 0.34715066087168944\n",
      "rh_bankssts_thickness 0.252383673089822 0.8009494372440056\n",
      "rh_caudalanteriorcingulate_thickness 0.6008222424394368 0.5484962591397093\n",
      "rh_caudalmiddlefrontal_thickness 0.35198840807948706 0.725139959188513\n",
      "rh_cuneus_thickness 3.427606580469745 0.0007106132267662885\n",
      "rh_entorhinal_thickness 0.23333529911199538 0.8156897264021757\n",
      "rh_fusiform_thickness 0.14635068524238015 0.8837610990511833\n",
      "rh_inferiorparietal_thickness 1.2705206352403116 0.20506632266018338\n",
      "rh_inferiortemporal_thickness -0.8488493580987146 0.3967675606870976\n",
      "rh_isthmuscingulate_thickness -0.07387519964480509 0.941168063856134\n",
      "rh_lateraloccipital_thickness 0.86720641809938 0.38665066467744846\n",
      "rh_lateralorbitofrontal_thickness 1.1072442719098123 0.2692399337900069\n",
      "rh_lingual_thickness 0.8237023053683107 0.41088452197057856\n",
      "rh_medialorbitofrontal_thickness 1.6974626111007405 0.09083890654294553\n",
      "rh_middletemporal_thickness -0.7388910849303512 0.4606580639524197\n",
      "rh_parahippocampal_thickness 0.1935451633708031 0.8466873343543412\n",
      "rh_paracentral_thickness 1.6430578250339853 0.10161315307772086\n",
      "rh_parsopercularis_thickness -1.3554673650457427 0.1764775017348645\n",
      "rh_parsorbitalis_thickness 0.059544255106732974 0.9525656231938062\n",
      "rh_parstriangularis_thickness -1.604560572354537 0.10983807283483375\n",
      "rh_pericalcarine_thickness 2.768264172222993 0.006052346668043412\n",
      "rh_postcentral_thickness 1.7906673968672762 0.07454216590685929\n",
      "rh_posteriorcingulate_thickness 0.7015120161124128 0.48362831486880997\n",
      "rh_precentral_thickness 0.3422357602327262 0.7324576053888304\n",
      "rh_precuneus_thickness 2.4653133299576386 0.014353951966347617\n",
      "rh_rostralanteriorcingulate_thickness -0.9493444668693769 0.3433513951583087\n",
      "rh_rostralmiddlefrontal_thickness 0.7167059947241153 0.47421661169566065\n",
      "rh_superiorfrontal_thickness -0.10412821220367462 0.9171500997627193\n",
      "rh_superiorparietal_thickness 2.1669570531575575 0.03117161213385487\n",
      "rh_superiortemporal_thickness -1.0405797008442983 0.2990640352044348\n",
      "rh_supramarginal_thickness 0.6510987788094273 0.515573646710503\n",
      "rh_frontalpole_thickness 1.0068933151788597 0.3149480641593581\n",
      "rh_temporalpole_thickness -0.94652460008439 0.3447842136316641\n",
      "rh_transversetemporal_thickness 1.2585292459997406 0.2093605304445822\n",
      "rh_insula_thickness -1.08588975640693 0.2785613223096154\n",
      "rh_MeanThickness_thickness 0.6772729329077003 0.49885162238843883\n",
      "BrainSegVolNotVent_y 1.1206516347293696 0.26349880064115705\n",
      "eTIV_y 0.9418837137836746 0.34715066087168944\n",
      "amyg212 -4.371213342978847 1.8054779253390524e-05\n",
      "hipp216 -4.124005738567603 5.0537257823063464e-05\n",
      "pcc152 -3.9507849931418377 0.00010108173207449298\n",
      "insula163_1 -4.163831534665208 4.295046798478043e-05\n",
      "insula163_2 -4.2792884191964475 2.661839375166277e-05\n",
      "parahipp118 -4.405388096176702 1.5602992673538358e-05\n",
      "parahipp116 -3.717258154124147 0.0002479732575104419\n",
      "parahipp115 -4.249306534511637 3.016929829754233e-05\n",
      "precentral64_1 -3.983086113025606 8.898179888265062e-05\n",
      "precentral64_2 -4.0893819357557435 5.8156258842049286e-05\n"
     ]
    }
   ],
   "source": [
    "fs_pvals = pd.DataFrame()\n",
    "for column in cols:\n",
    "    test = ttest_ind(SAD[column], HC[column])\n",
    "    fs_pvals[column] = test.pvalue\n",
    "    print(column, test.statistic, test.pvalue)"
   ]
  },
  {
   "cell_type": "code",
   "execution_count": 34,
   "metadata": {},
   "outputs": [],
   "source": [
    "sig_cols = ['lh_cuneus_thickness', 'lh_rostralanteriorcingulate_thickness', 'rh_cuneus_thickness', 'rh_pericalcarine_thickness', \n",
    "            'rh_precuneus_thickness', 'rh_superiorparietal_thickness', 'amyg212', 'pcc152', 'insula163_1', \n",
    "            'insula163_2', 'parahipp118', 'parahipp116', 'parahipp115', 'precentral64_1', 'precentral64_2']"
   ]
  },
  {
   "cell_type": "code",
   "execution_count": 12,
   "metadata": {},
   "outputs": [],
   "source": [
    "df3 = df2.dropna(subset=['BDI_Total ','LSAS_Total '])"
   ]
  },
  {
   "cell_type": "code",
   "execution_count": 13,
   "metadata": {},
   "outputs": [
    {
     "data": {
      "text/plain": [
       "Index(['Subject', 'Dx', 'BDI_Total ', 'LSAS_Total ', 'Age', 'Gender',\n",
       "       'Race (1 = White, 2 = Black, 3 = Asian, 4 = Other)'],\n",
       "      dtype='object')"
      ]
     },
     "execution_count": 13,
     "metadata": {},
     "output_type": "execute_result"
    }
   ],
   "source": [
    "pheno_demo.columns"
   ]
  },
  {
   "cell_type": "code",
   "execution_count": 14,
   "metadata": {},
   "outputs": [
    {
     "data": {
      "text/plain": [
       "3    200\n",
       "1     35\n",
       "2     20\n",
       "Name: Study (1=ABM, 2=PSPC, 3=Shared), dtype: int64"
      ]
     },
     "execution_count": 14,
     "metadata": {},
     "output_type": "execute_result"
    }
   ],
   "source": [
    "df2['Study (1=ABM, 2=PSPC, 3=Shared)'].value_counts()"
   ]
  },
  {
   "cell_type": "code",
   "execution_count": 15,
   "metadata": {},
   "outputs": [
    {
     "data": {
      "text/plain": [
       "3    201\n",
       "1     37\n",
       "2     20\n",
       "Name: Study (1=ABM, 2=PSPC, 3=Shared), dtype: int64"
      ]
     },
     "execution_count": 15,
     "metadata": {},
     "output_type": "execute_result"
    }
   ],
   "source": [
    "sublist['Study (1=ABM, 2=PSPC, 3=Shared)'].value_counts()"
   ]
  },
  {
   "cell_type": "code",
   "execution_count": 16,
   "metadata": {},
   "outputs": [
    {
     "data": {
      "text/plain": [
       "1    142\n",
       "2    116\n",
       "Name: Group, dtype: int64"
      ]
     },
     "execution_count": 16,
     "metadata": {},
     "output_type": "execute_result"
    }
   ],
   "source": [
    "sublist['Group'].value_counts()"
   ]
  },
  {
   "cell_type": "code",
   "execution_count": 17,
   "metadata": {},
   "outputs": [],
   "source": [
    "SAD = df3[df3['Group']== 1]\n",
    "HC = df3[df3['Group']== 2]"
   ]
  },
  {
   "cell_type": "code",
   "execution_count": 18,
   "metadata": {},
   "outputs": [
    {
     "data": {
      "text/plain": [
       "count    82.000000\n",
       "mean      0.176935\n",
       "std       0.095521\n",
       "min       0.066800\n",
       "25%       0.117075\n",
       "50%       0.155650\n",
       "75%       0.192125\n",
       "max       0.653500\n",
       "Name: meanFD, dtype: float64"
      ]
     },
     "execution_count": 18,
     "metadata": {},
     "output_type": "execute_result"
    }
   ],
   "source": [
    "HC['meanFD'].describe()"
   ]
  },
  {
   "cell_type": "code",
   "execution_count": 19,
   "metadata": {},
   "outputs": [
    {
     "data": {
      "text/plain": [
       "count    82.000000\n",
       "mean      1.134146\n",
       "std       1.776126\n",
       "min       0.000000\n",
       "25%       0.000000\n",
       "50%       0.000000\n",
       "75%       1.750000\n",
       "max       7.000000\n",
       "Name: BDI_Total , dtype: float64"
      ]
     },
     "execution_count": 19,
     "metadata": {},
     "output_type": "execute_result"
    }
   ],
   "source": [
    "HC['BDI_Total '].describe()"
   ]
  },
  {
   "cell_type": "code",
   "execution_count": 26,
   "metadata": {},
   "outputs": [
    {
     "data": {
      "text/plain": [
       "count    82.000000\n",
       "mean     11.500000\n",
       "std       9.786928\n",
       "min       0.000000\n",
       "25%       4.000000\n",
       "50%      10.000000\n",
       "75%      17.000000\n",
       "max      39.000000\n",
       "Name: LSAS_Total , dtype: float64"
      ]
     },
     "execution_count": 26,
     "metadata": {},
     "output_type": "execute_result"
    }
   ],
   "source": [
    "HC['LSAS_Total '].describe()"
   ]
  },
  {
   "cell_type": "code",
   "execution_count": 20,
   "metadata": {},
   "outputs": [
    {
     "data": {
      "text/plain": [
       "count    82.000000\n",
       "mean     25.195122\n",
       "std       7.682655\n",
       "min      18.000000\n",
       "25%      20.000000\n",
       "50%      23.000000\n",
       "75%      28.000000\n",
       "max      59.000000\n",
       "Name: Age, dtype: float64"
      ]
     },
     "execution_count": 20,
     "metadata": {},
     "output_type": "execute_result"
    }
   ],
   "source": [
    "HC['Age'].describe()"
   ]
  },
  {
   "cell_type": "code",
   "execution_count": 21,
   "metadata": {},
   "outputs": [
    {
     "data": {
      "text/plain": [
       "count    108.000000\n",
       "mean      24.805556\n",
       "std        6.451050\n",
       "min       18.000000\n",
       "25%       20.000000\n",
       "50%       23.000000\n",
       "75%       27.000000\n",
       "max       47.000000\n",
       "Name: Age, dtype: float64"
      ]
     },
     "execution_count": 21,
     "metadata": {},
     "output_type": "execute_result"
    }
   ],
   "source": [
    "SAD['Age'].describe()"
   ]
  },
  {
   "cell_type": "code",
   "execution_count": 22,
   "metadata": {},
   "outputs": [
    {
     "data": {
      "text/plain": [
       "count    108.000000\n",
       "mean      18.527778\n",
       "std       10.731610\n",
       "min        0.000000\n",
       "25%       10.750000\n",
       "50%       19.000000\n",
       "75%       27.000000\n",
       "max       44.000000\n",
       "Name: BDI_Total , dtype: float64"
      ]
     },
     "execution_count": 22,
     "metadata": {},
     "output_type": "execute_result"
    }
   ],
   "source": [
    "SAD['BDI_Total '].describe()"
   ]
  },
  {
   "cell_type": "code",
   "execution_count": 37,
   "metadata": {},
   "outputs": [
    {
     "name": "stdout",
     "output_type": "stream",
     "text": [
      "-0.7173684342961736 0.47380858832614403\n"
     ]
    }
   ],
   "source": [
    "test = ttest_ind(SAD['Age'], HC['Age'])\n",
    "print(test.statistic, test.pvalue)"
   ]
  },
  {
   "cell_type": "code",
   "execution_count": 38,
   "metadata": {},
   "outputs": [
    {
     "name": "stdout",
     "output_type": "stream",
     "text": [
      "-0.8628568300152505 0.3890333715189771\n"
     ]
    }
   ],
   "source": [
    "test = ttest_ind(SAD['meanFD'], HC['meanFD'])\n",
    "print(test.statistic, test.pvalue)"
   ]
  },
  {
   "cell_type": "code",
   "execution_count": 42,
   "metadata": {},
   "outputs": [
    {
     "data": {
      "text/plain": [
       "(0.0,\n",
       " 1.0,\n",
       " 0,\n",
       " array([2., 2., 1., 2., 2., 2., 2., 2., 2., 1., 2., 2., 1., 2., 1., 2., 2.,\n",
       "        2., 2., 2., 2., 1., 2., 1., 1., 2., 2., 1., 1., 2., 1., 2., 2., 2.,\n",
       "        1., 2., 1., 2., 1., 2., 2., 2., 1., 2., 1., 1., 1., 2., 2., 1., 2.,\n",
       "        2., 2., 2., 2., 2., 2., 2., 1., 2., 1., 2., 2., 2., 2., 1., 2., 2.,\n",
       "        2., 2., 2., 2., 2., 1., 2., 1., 2., 1., 2., 1., 2., 2., 2., 2., 2.,\n",
       "        2., 2., 2., 1., 2., 2., 2., 2., 2., 2., 1., 2., 2., 2., 1., 2., 2.,\n",
       "        2., 1., 2., 2., 1., 2., 1., 2., 1., 1., 2., 1., 1., 2., 2., 2., 2.,\n",
       "        1., 2., 1., 2., 2., 2., 2., 1., 1., 2., 1., 2., 2., 2., 2., 2., 2.,\n",
       "        2., 1., 2., 1.]))"
      ]
     },
     "execution_count": 42,
     "metadata": {},
     "output_type": "execute_result"
    }
   ],
   "source": [
    "chi2_contingency(SAD['Gender'], HC['Gender'])"
   ]
  },
  {
   "cell_type": "code",
   "execution_count": 23,
   "metadata": {},
   "outputs": [
    {
     "name": "stdout",
     "output_type": "stream",
     "text": [
      "14.517698803494254 1.6007004659959947e-32\n"
     ]
    }
   ],
   "source": [
    "test = ttest_ind(SAD['BDI_Total '], HC['BDI_Total '])\n",
    "print(test.statistic, test.pvalue)"
   ]
  },
  {
   "cell_type": "code",
   "execution_count": 25,
   "metadata": {},
   "outputs": [
    {
     "name": "stdout",
     "output_type": "stream",
     "text": [
      "29.967412510348606 1.6076569858784733e-73\n"
     ]
    }
   ],
   "source": [
    "test = ttest_ind(SAD['LSAS_Total '], HC['LSAS_Total '])\n",
    "print(test.statistic, test.pvalue)"
   ]
  },
  {
   "cell_type": "code",
   "execution_count": 35,
   "metadata": {},
   "outputs": [
    {
     "name": "stdout",
     "output_type": "stream",
     "text": [
      "lh_cuneus_thickness LSAS pearsonr, p-val: (0.14306090156453283, 0.04894322760213944)\n",
      "lh_cuneus_thickness BDI pearsonr, p-val: (0.17851644708096237, 0.013729309147634192)\n",
      "lh_rostralanteriorcingulate_thickness LSAS pearsonr, p-val: (-0.11659138039070144, 0.10916349727527191)\n",
      "lh_rostralanteriorcingulate_thickness BDI pearsonr, p-val: (-0.21741835451016722, 0.0025845885385046953)\n",
      "rh_cuneus_thickness LSAS pearsonr, p-val: (0.15445283237270652, 0.03336022788262833)\n",
      "rh_cuneus_thickness BDI pearsonr, p-val: (0.20909514263998652, 0.00378879388713008)\n",
      "rh_pericalcarine_thickness LSAS pearsonr, p-val: (0.0787127863177222, 0.2803662445528647)\n",
      "rh_pericalcarine_thickness BDI pearsonr, p-val: (0.09461179078112347, 0.1941354133051208)\n",
      "rh_precuneus_thickness LSAS pearsonr, p-val: (0.0949930117365369, 0.1923366332080412)\n",
      "rh_precuneus_thickness BDI pearsonr, p-val: (0.14008414757915905, 0.05389237505626822)\n",
      "rh_superiorparietal_thickness LSAS pearsonr, p-val: (0.0867928925582278, 0.23376702128948668)\n",
      "rh_superiorparietal_thickness BDI pearsonr, p-val: (0.13225382614499373, 0.06891726918401754)\n",
      "amyg212 LSAS pearsonr, p-val: (-0.22907431794555505, 0.001477246431715565)\n",
      "amyg212 BDI pearsonr, p-val: (-0.11820511041014395, 0.10431335959207066)\n",
      "hipp216 LSAS pearsonr, p-val: (-0.18414750349023706, 0.010979951595474687)\n",
      "hipp216 BDI pearsonr, p-val: (-0.1212954644640484, 0.09550038901424844)\n",
      "pcc152 LSAS pearsonr, p-val: (-0.25337045956799664, 0.0004200500349797531)\n",
      "pcc152 BDI pearsonr, p-val: (-0.16866760648368043, 0.02000403750227786)\n",
      "insula163_1 LSAS pearsonr, p-val: (-0.23470799598171105, 0.0011159657421025908)\n",
      "insula163_1 BDI pearsonr, p-val: (-0.15548886414526522, 0.03217990720381413)\n",
      "insula163_2 LSAS pearsonr, p-val: (-0.2222576757101425, 0.002055896457646811)\n",
      "insula163_2 BDI pearsonr, p-val: (-0.19530985714219576, 0.006924532368178216)\n",
      "parahipp118 LSAS pearsonr, p-val: (-0.21269580733418547, 0.003216524935078566)\n",
      "parahipp118 BDI pearsonr, p-val: (-0.11318657166555639, 0.11997593116038947)\n",
      "parahipp116 LSAS pearsonr, p-val: (-0.1752290067259524, 0.015598951228414122)\n",
      "parahipp116 BDI pearsonr, p-val: (-0.13072833762894628, 0.07220905886180568)\n",
      "parahipp115 LSAS pearsonr, p-val: (-0.22268521723083068, 0.0020142817445728445)\n",
      "parahipp115 BDI pearsonr, p-val: (-0.19293467721185625, 0.007653704430962864)\n",
      "precentral64_1 LSAS pearsonr, p-val: (-0.23616486403740666, 0.0010367706643643576)\n",
      "precentral64_1 BDI pearsonr, p-val: (-0.13413077234273713, 0.06503599558382779)\n",
      "precentral64_2 LSAS pearsonr, p-val: (-0.30312991298206665, 2.1258747704618417e-05)\n",
      "precentral64_2 BDI pearsonr, p-val: (-0.23788047760152725, 0.0009501404052347719)\n"
     ]
    }
   ],
   "source": [
    "for column in sig_cols:\n",
    "    LSAS_corr = pearsonr(df3['LSAS_Total '], df3[column])\n",
    "    BDI_corr = pearsonr(df3['BDI_Total '], df3[column])\n",
    "    print(column, \"LSAS pearsonr, p-val:\", LSAS_corr)\n",
    "    print(column, \"BDI pearsonr, p-val:\", BDI_corr)"
   ]
  },
  {
   "cell_type": "code",
   "execution_count": 36,
   "metadata": {},
   "outputs": [
    {
     "name": "stdout",
     "output_type": "stream",
     "text": [
      "lh_cuneus_thickness LSAS pearsonr, p-val: (0.22328991256725983, 0.020184268594055102)\n",
      "lh_cuneus_thickness BDI pearsonr, p-val: (0.23799677579528214, 0.013127044124079465)\n",
      "lh_rostralanteriorcingulate_thickness LSAS pearsonr, p-val: (-0.11788775859953673, 0.22432339359492318)\n",
      "lh_rostralanteriorcingulate_thickness BDI pearsonr, p-val: (-0.32045387544510895, 0.0007218867425679442)\n",
      "rh_cuneus_thickness LSAS pearsonr, p-val: (0.07721305430146809, 0.4270375538850835)\n",
      "rh_cuneus_thickness BDI pearsonr, p-val: (0.22831726494116172, 0.017472336928074872)\n",
      "rh_pericalcarine_thickness LSAS pearsonr, p-val: (0.16001629947473398, 0.09807351931521568)\n",
      "rh_pericalcarine_thickness BDI pearsonr, p-val: (0.1629245882163689, 0.09203939159914844)\n",
      "rh_precuneus_thickness LSAS pearsonr, p-val: (0.15063671094171327, 0.11967471964725619)\n",
      "rh_precuneus_thickness BDI pearsonr, p-val: (0.19948941677775936, 0.03846311554393436)\n",
      "rh_superiorparietal_thickness LSAS pearsonr, p-val: (0.18011942406267126, 0.06213071595509554)\n",
      "rh_superiorparietal_thickness BDI pearsonr, p-val: (0.23022463559135528, 0.01652913747836812)\n",
      "amyg212 LSAS pearsonr, p-val: (0.09114190068022768, 0.34818928062425153)\n",
      "amyg212 BDI pearsonr, p-val: (0.1343566157625377, 0.16564858904717317)\n",
      "hipp216 LSAS pearsonr, p-val: (0.0795416212364603, 0.41318606847633815)\n",
      "hipp216 BDI pearsonr, p-val: (0.03404349400150159, 0.7265075487624739)\n",
      "pcc152 LSAS pearsonr, p-val: (-0.0007818869874579096, 0.9935922123177567)\n",
      "pcc152 BDI pearsonr, p-val: (0.05309929296544138, 0.5852115403610113)\n",
      "insula163_1 LSAS pearsonr, p-val: (-0.0036579041839854276, 0.9700290616367384)\n",
      "insula163_1 BDI pearsonr, p-val: (0.08100536304031894, 0.40461494335278436)\n",
      "insula163_2 LSAS pearsonr, p-val: (-0.0718504938999651, 0.4599316386454652)\n",
      "insula163_2 BDI pearsonr, p-val: (-0.10308409278352458, 0.28839598932299754)\n",
      "parahipp118 LSAS pearsonr, p-val: (0.07009274534058864, 0.47101020896931617)\n",
      "parahipp118 BDI pearsonr, p-val: (0.06061735898788497, 0.5331548815605673)\n",
      "parahipp116 LSAS pearsonr, p-val: (-0.04237576166299502, 0.663233526979199)\n",
      "parahipp116 BDI pearsonr, p-val: (0.008159625170481112, 0.9332059211278769)\n",
      "parahipp115 LSAS pearsonr, p-val: (-0.017839530537669138, 0.85460097306836)\n",
      "parahipp115 BDI pearsonr, p-val: (-0.033664660720235814, 0.7294325029678322)\n",
      "precentral64_1 LSAS pearsonr, p-val: (0.10689380066012633, 0.2708509850211097)\n",
      "precentral64_1 BDI pearsonr, p-val: (0.14831617484391818, 0.1255477846904235)\n",
      "precentral64_2 LSAS pearsonr, p-val: (-0.01945581620783824, 0.8415924581757653)\n",
      "precentral64_2 BDI pearsonr, p-val: (-0.012680089212645712, 0.8963708396792693)\n"
     ]
    }
   ],
   "source": [
    "for column in sig_cols:\n",
    "    LSAS_corr = pearsonr(SAD['LSAS_Total '], SAD[column])\n",
    "    BDI_corr = pearsonr(SAD['BDI_Total '], SAD[column])\n",
    "    print(column, \"LSAS pearsonr, p-val:\", LSAS_corr)\n",
    "    print(column, \"BDI pearsonr, p-val:\", BDI_corr)"
   ]
  },
  {
   "cell_type": "code",
   "execution_count": 37,
   "metadata": {},
   "outputs": [
    {
     "name": "stdout",
     "output_type": "stream",
     "text": [
      "lh_cuneus_thickness LSAS pearsonr, p-val: (-0.03180043512110674, 0.776704598206506)\n",
      "lh_cuneus_thickness BDI pearsonr, p-val: (-0.15495439869698419, 0.16451610378808093)\n",
      "lh_rostralanteriorcingulate_thickness LSAS pearsonr, p-val: (0.025915912843784143, 0.8172257703682225)\n",
      "lh_rostralanteriorcingulate_thickness BDI pearsonr, p-val: (0.04766076477312961, 0.6706889342264388)\n",
      "rh_cuneus_thickness LSAS pearsonr, p-val: (0.026871637642843435, 0.810608844662463)\n",
      "rh_cuneus_thickness BDI pearsonr, p-val: (-0.10982181845745358, 0.3260079478268421)\n",
      "rh_pericalcarine_thickness LSAS pearsonr, p-val: (0.10304108077939665, 0.356942189099843)\n",
      "rh_pericalcarine_thickness BDI pearsonr, p-val: (-0.07231887169136472, 0.5184944680210049)\n",
      "rh_precuneus_thickness LSAS pearsonr, p-val: (-0.02472653147498808, 0.8254782404270034)\n",
      "rh_precuneus_thickness BDI pearsonr, p-val: (-0.06960483307461643, 0.534351865431256)\n",
      "rh_superiorparietal_thickness LSAS pearsonr, p-val: (0.12372384888223628, 0.26810866623243806)\n",
      "rh_superiorparietal_thickness BDI pearsonr, p-val: (0.065876825915526, 0.5565179972061618)\n",
      "amyg212 LSAS pearsonr, p-val: (-0.13568460674147653, 0.2241968179826353)\n",
      "amyg212 BDI pearsonr, p-val: (0.06728823038454322, 0.5480744917578703)\n",
      "hipp216 LSAS pearsonr, p-val: (-0.17293230338166493, 0.12026586956785384)\n",
      "hipp216 BDI pearsonr, p-val: (0.15919033251744738, 0.15314028257707968)\n",
      "pcc152 LSAS pearsonr, p-val: (0.02990712459713716, 0.7896827741114508)\n",
      "pcc152 BDI pearsonr, p-val: (0.18230249019696831, 0.10116241645629814)\n",
      "insula163_1 LSAS pearsonr, p-val: (-0.007789938962996679, 0.9446242692749307)\n",
      "insula163_1 BDI pearsonr, p-val: (-0.1529942059360015, 0.16998675974546035)\n",
      "insula163_2 LSAS pearsonr, p-val: (-0.22417972146867812, 0.04289638923052961)\n",
      "insula163_2 BDI pearsonr, p-val: (0.050346306209973046, 0.6532937209511778)\n",
      "parahipp118 LSAS pearsonr, p-val: (-0.29021884801456493, 0.008171914270424643)\n",
      "parahipp118 BDI pearsonr, p-val: (0.2623774151448498, 0.01725000510228455)\n",
      "parahipp116 LSAS pearsonr, p-val: (-0.005375870272623207, 0.9617691847791202)\n",
      "parahipp116 BDI pearsonr, p-val: (-0.055413215354258825, 0.6209779637887081)\n",
      "parahipp115 LSAS pearsonr, p-val: (0.06936302862657492, 0.535776225050217)\n",
      "parahipp115 BDI pearsonr, p-val: (0.05382892951939952, 0.6310091166478956)\n",
      "precentral64_1 LSAS pearsonr, p-val: (-0.10750313283877463, 0.3363877503377654)\n",
      "precentral64_1 BDI pearsonr, p-val: (-0.10032632568906985, 0.3698192975199387)\n",
      "precentral64_2 LSAS pearsonr, p-val: (-0.15680827906385486, 0.15946289247690398)\n",
      "precentral64_2 BDI pearsonr, p-val: (-0.1286977707424211, 0.24919119620748012)\n"
     ]
    }
   ],
   "source": [
    "for column in sig_cols:\n",
    "    LSAS_corr = pearsonr(HC['LSAS_Total '], HC[column])\n",
    "    BDI_corr = pearsonr(HC['BDI_Total '], HC[column])\n",
    "    print(column, \"LSAS pearsonr, p-val:\", LSAS_corr)\n",
    "    print(column, \"BDI pearsonr, p-val:\", BDI_corr)"
   ]
  },
  {
   "cell_type": "code",
   "execution_count": 38,
   "metadata": {},
   "outputs": [
    {
     "data": {
      "text/plain": [
       "<seaborn.axisgrid.FacetGrid at 0x1a18c8e090>"
      ]
     },
     "execution_count": 38,
     "metadata": {},
     "output_type": "execute_result"
    },
    {
     "data": {
      "image/png": "[encoded data removed]",
      "text/plain": [
       "<Figure size 360x360 with 1 Axes>"
      ]
     },
     "metadata": {},
     "output_type": "display_data"
    }
   ],
   "source": [
    "sns.set(font_scale=1.5)\n",
    "p2 = sns.lmplot(x=\"lh_rostralanteriorcingulate_thickness\", y=\"BDI_Total \", data=SAD)\n",
    "p2.set_axis_labels(\"Left rostralanteriorcingulate thickness\", \"BDI Total\")"
   ]
  },
  {
   "cell_type": "code",
   "execution_count": 39,
   "metadata": {},
   "outputs": [
    {
     "data": {
      "text/plain": [
       "<seaborn.axisgrid.FacetGrid at 0x1a19785710>"
      ]
     },
     "execution_count": 39,
     "metadata": {},
     "output_type": "execute_result"
    },
    {
     "data": {
      "image/png": "[encoded data removed]",
      "text/plain": [
       "<Figure size 360x360 with 1 Axes>"
      ]
     },
     "metadata": {},
     "output_type": "display_data"
    }
   ],
   "source": [
    "sns.set(font_scale=1.5)\n",
    "p2 = sns.lmplot(x=\"lh_cuneus_thickness\", y=\"BDI_Total \", data=SAD)\n",
    "p2.set_axis_labels(\"Left cuneus thickness\", \"BDI Total\")"
   ]
  },
  {
   "cell_type": "code",
   "execution_count": 40,
   "metadata": {},
   "outputs": [
    {
     "data": {
      "text/plain": [
       "<seaborn.axisgrid.FacetGrid at 0x1a198a91d0>"
      ]
     },
     "execution_count": 40,
     "metadata": {},
     "output_type": "execute_result"
    },
    {
     "data": {
      "image/png": "[encoded data removed]",
      "text/plain": [
       "<Figure size 360x360 with 1 Axes>"
      ]
     },
     "metadata": {},
     "output_type": "display_data"
    }
   ],
   "source": [
    "sns.set(font_scale=1.5)\n",
    "p2 = sns.lmplot(x=\"rh_cuneus_thickness\", y=\"BDI_Total \", data=SAD)\n",
    "p2.set_axis_labels(\"Right cuneus thickness\", \"BDI Total\")"
   ]
  },
  {
   "cell_type": "code",
   "execution_count": 41,
   "metadata": {},
   "outputs": [
    {
     "data": {
      "text/plain": [
       "<seaborn.axisgrid.FacetGrid at 0x1a19a46150>"
      ]
     },
     "execution_count": 41,
     "metadata": {},
     "output_type": "execute_result"
    },
    {
     "data": {
      "image/png": "[encoded data removed]",
      "text/plain": [
       "<Figure size 360x360 with 1 Axes>"
      ]
     },
     "metadata": {},
     "output_type": "display_data"
    }
   ],
   "source": [
    "sns.set(font_scale=1.5)\n",
    "p2 = sns.lmplot(x=\"rh_superiorparietal_thickness\", y=\"BDI_Total \", data=SAD)\n",
    "p2.set_axis_labels(\"Right superiorparietal thickness\", \"BDI Total\")"
   ]
  },
  {
   "cell_type": "code",
   "execution_count": 42,
   "metadata": {},
   "outputs": [
    {
     "data": {
      "text/plain": [
       "<seaborn.axisgrid.FacetGrid at 0x1a19b27790>"
      ]
     },
     "execution_count": 42,
     "metadata": {},
     "output_type": "execute_result"
    },
    {
     "data": {
      "image/png": "[encoded data removed]",
      "text/plain": [
       "<Figure size 360x360 with 1 Axes>"
      ]
     },
     "metadata": {},
     "output_type": "display_data"
    }
   ],
   "source": [
    "sns.set(font_scale=1.5)\n",
    "p2 = sns.lmplot(x=\"rh_precuneus_thickness\", y=\"BDI_Total \", data=SAD)\n",
    "p2.set_axis_labels(\"Right precuneus thickness\", \"BDI Total\")"
   ]
  },
  {
   "cell_type": "code",
   "execution_count": 43,
   "metadata": {},
   "outputs": [
    {
     "data": {
      "text/plain": [
       "<seaborn.axisgrid.FacetGrid at 0x1a1990f050>"
      ]
     },
     "execution_count": 43,
     "metadata": {},
     "output_type": "execute_result"
    },
    {
     "data": {
      "image/png": "[encoded data removed]",
      "text/plain": [
       "<Figure size 360x360 with 1 Axes>"
      ]
     },
     "metadata": {},
     "output_type": "display_data"
    }
   ],
   "source": [
    "sns.set(font_scale=1.5)\n",
    "p2 = sns.lmplot(x=\"rh_precuneus_thickness\", y=\"BDI_Total \", data=SAD)\n",
    "p2.set_axis_labels(\"Right precuneus thickness\", \"BDI Total\")"
   ]
  }
 ],
 "metadata": {
  "kernelspec": {
   "display_name": "Python 3",
   "language": "python",
   "name": "python3"
  },
  "language_info": {
   "codemirror_mode": {
    "name": "ipython",
    "version": 3
   },
   "file_extension": ".py",
   "mimetype": "text/x-python",
   "name": "python",
   "nbconvert_exporter": "python",
   "pygments_lexer": "ipython3",
   "version": "3.7.4"
  }
 },
 "nbformat": 4,
 "nbformat_minor": 4
}
