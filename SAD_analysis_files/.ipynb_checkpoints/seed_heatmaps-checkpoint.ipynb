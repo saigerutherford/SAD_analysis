{
 "cells": [
  {
   "cell_type": "code",
   "execution_count": 1,
   "metadata": {},
   "outputs": [],
   "source": [
    "import matplotlib.pyplot as plt\n",
    "import seaborn as sns\n",
    "import pandas as pd\n",
    "import numpy as np"
   ]
  },
  {
   "cell_type": "markdown",
   "metadata": {},
   "source": [
    "## Pick which seed maps to use from Brainnetome atlas"
   ]
  },
  {
   "cell_type": "code",
   "execution_count": 2,
   "metadata": {},
   "outputs": [],
   "source": [
    "#Load seed map correlation matrices for amygdala, hippocampus, parahippocampus, cingulate, precentral, fusiform face area, precuneus, insula\n",
    "amyg = pd.read_table('amyg_corr.txt', delimiter='\\s+', header=None)\n",
    "hipp = pd.read_table('hipp_corr.txt', delimiter='\\s+', header=None)\n",
    "parahipp = pd.read_table('parahipp_corr.txt', delimiter='\\s+', header=None)\n",
    "cing = pd.read_table('cingulate_corr.txt', delimiter='\\s+', header=None)\n",
    "precent = pd.read_table('precentral_corr.txt', delimiter='\\s+', header=None)\n",
    "ffa = pd.read_table('ffa_corr.txt', delimiter='\\s+', header=None)\n",
    "pcc = pd.read_table('PCC_corr.txt', delimiter='\\s+', header=None)\n",
    "insula = pd.read_table('insula_corr.txt', delimiter='\\s+', header=None)"
   ]
  },
  {
   "cell_type": "code",
   "execution_count": 3,
   "metadata": {},
   "outputs": [],
   "source": [
    "# Generate masks for the upper triangles\n",
    "mask_amyg = np.zeros_like(amyg, dtype=np.bool)\n",
    "mask_amyg[np.tril_indices_from(mask_amyg)] = True\n",
    "\n",
    "mask_hipp = np.zeros_like(hipp, dtype=np.bool)\n",
    "mask_hipp[np.tril_indices_from(mask_hipp)] = True\n",
    "\n",
    "mask_parahipp = np.zeros_like(parahipp, dtype=np.bool)\n",
    "mask_parahipp[np.tril_indices_from(mask_parahipp)] = True\n",
    "\n",
    "mask_cing = np.zeros_like(cing, dtype=np.bool)\n",
    "mask_cing[np.tril_indices_from(mask_cing)] = True\n",
    "\n",
    "mask_precent = np.zeros_like(precent, dtype=np.bool)\n",
    "mask_precent[np.tril_indices_from(mask_precent)] = True\n",
    "\n",
    "mask_ffa = np.zeros_like(ffa, dtype=np.bool)\n",
    "mask_ffa[np.tril_indices_from(mask_ffa)] = True\n",
    "\n",
    "mask_pcc = np.zeros_like(pcc, dtype=np.bool)\n",
    "mask_pcc[np.tril_indices_from(mask_pcc)] = True\n",
    "\n",
    "mask_insula = np.zeros_like(insula, dtype=np.bool)\n",
    "mask_insula[np.tril_indices_from(mask_insula)] = True"
   ]
  },
  {
   "cell_type": "code",
   "execution_count": null,
   "metadata": {},
   "outputs": [],
   "source": [
    "amyg.columns"
   ]
  },
  {
   "cell_type": "code",
   "execution_count": 4,
   "metadata": {},
   "outputs": [],
   "source": [
    "%matplotlib inline"
   ]
  },
  {
   "cell_type": "code",
   "execution_count": 7,
   "metadata": {},
   "outputs": [
    {
     "data": {
      "text/plain": [
       "<matplotlib.axes._subplots.AxesSubplot at 0x1a18527690>"
      ]
     },
     "execution_count": 7,
     "metadata": {},
     "output_type": "execute_result"
    },
    {
     "data": {
      "image/png": "[encoded data removed]",
      "text/plain": [
       "<Figure size 432x288 with 2 Axes>"
      ]
     },
     "metadata": {
      "needs_background": "light"
     },
     "output_type": "display_data"
    }
   ],
   "source": [
    "sns.heatmap(amyg, mask=mask_amyg, cmap=\"Spectral\",center=True, annot=True)"
   ]
  },
  {
   "cell_type": "code",
   "execution_count": null,
   "metadata": {},
   "outputs": [],
   "source": []
  }
 ],
 "metadata": {
  "kernelspec": {
   "display_name": "Python 3",
   "language": "python",
   "name": "python3"
  },
  "language_info": {
   "codemirror_mode": {
    "name": "ipython",
    "version": 3
   },
   "file_extension": ".py",
   "mimetype": "text/x-python",
   "name": "python",
   "nbconvert_exporter": "python",
   "pygments_lexer": "ipython3",
   "version": "3.7.4"
  }
 },
 "nbformat": 4,
 "nbformat_minor": 4
}
