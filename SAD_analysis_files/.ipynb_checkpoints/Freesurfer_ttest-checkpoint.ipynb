{
 "cells": [
  {
   "cell_type": "code",
   "execution_count": 80,
   "metadata": {},
   "outputs": [],
   "source": [
    "import pandas as pd\n",
    "import numpy as np\n",
    "import seaborn as sns\n",
    "import matplotlib.pyplot as plt\n",
    "from scipy.stats import ttest_ind\n",
    "from scipy.stats import pearsonr"
   ]
  },
  {
   "cell_type": "markdown",
   "metadata": {},
   "source": [
    "# **SAD data**"
   ]
  },
  {
   "cell_type": "code",
   "execution_count": 52,
   "metadata": {},
   "outputs": [],
   "source": [
    "dfLt = pd.read_csv('SAD_lh_thickness_stats.csv')\n",
    "dfRt = pd.read_csv('SAD_rh_thickness_stats.csv')\n",
    "dfLa = pd.read_csv('SAD_lh_area_stats.csv')\n",
    "dfRa = pd.read_csv('SAD_rh_area_stats.csv')\n",
    "dfLc = pd.read_csv('SAD_lh_meancurv_stats.csv')\n",
    "dfRc = pd.read_csv('SAD_rh_meancurv_stats.csv')\n",
    "dfSC = pd.read_csv('SAD_asegvol_stats.csv')\n",
    "sublist = pd.read_csv('scanfile_combined.csv')\n",
    "pheno_demo = pd.read_csv('pheno_demo_combined.csv')\n",
    "func = pd.read_csv('LeftHipp_PostSal_10mmsphere.csv')"
   ]
  },
  {
   "cell_type": "code",
   "execution_count": 53,
   "metadata": {},
   "outputs": [],
   "source": [
    "df_temp1 = pd.merge(sublist, dfLt, on='Subject', how='inner')"
   ]
  },
  {
   "cell_type": "code",
   "execution_count": 54,
   "metadata": {},
   "outputs": [],
   "source": [
    "df_temp2 = pd.merge(df_temp1, dfRt, on='Subject', how='inner')"
   ]
  },
  {
   "cell_type": "code",
   "execution_count": 55,
   "metadata": {},
   "outputs": [],
   "source": [
    "df_temp3 = pd.merge(df_temp2, dfRa, on='Subject', how='inner')"
   ]
  },
  {
   "cell_type": "code",
   "execution_count": 56,
   "metadata": {},
   "outputs": [],
   "source": [
    "df_temp4 = pd.merge(df_temp3, dfLa, on='Subject', how='inner')"
   ]
  },
  {
   "cell_type": "code",
   "execution_count": 57,
   "metadata": {},
   "outputs": [],
   "source": [
    "df_temp5 = pd.merge(df_temp4, dfRc, on='Subject', how='inner')"
   ]
  },
  {
   "cell_type": "code",
   "execution_count": 58,
   "metadata": {},
   "outputs": [],
   "source": [
    "df_temp6 = pd.merge(df_temp5, dfLc, on='Subject', how='inner')"
   ]
  },
  {
   "cell_type": "code",
   "execution_count": 59,
   "metadata": {},
   "outputs": [],
   "source": [
    "df = pd.merge(df_temp6, dfSC, on='Subject', how='inner')"
   ]
  },
  {
   "cell_type": "code",
   "execution_count": 60,
   "metadata": {},
   "outputs": [
    {
     "data": {
      "text/plain": [
       "258"
      ]
     },
     "execution_count": 60,
     "metadata": {},
     "output_type": "execute_result"
    }
   ],
   "source": [
    "len(df)"
   ]
  },
  {
   "cell_type": "code",
   "execution_count": 61,
   "metadata": {},
   "outputs": [],
   "source": [
    "df2 = pd.merge(df, func, on='Subject', how='inner')"
   ]
  },
  {
   "cell_type": "code",
   "execution_count": 62,
   "metadata": {},
   "outputs": [
    {
     "data": {
      "text/plain": [
       "255"
      ]
     },
     "execution_count": 62,
     "metadata": {},
     "output_type": "execute_result"
    }
   ],
   "source": [
    "len(df2)"
   ]
  },
  {
   "cell_type": "code",
   "execution_count": 63,
   "metadata": {},
   "outputs": [],
   "source": [
    "df3 = pd.merge(df2, pheno_demo, on='Subject', how='inner')"
   ]
  },
  {
   "cell_type": "code",
   "execution_count": 67,
   "metadata": {},
   "outputs": [
    {
     "data": {
      "text/plain": [
       "1    140\n",
       "2     95\n",
       "Name: Group, dtype: int64"
      ]
     },
     "execution_count": 67,
     "metadata": {},
     "output_type": "execute_result"
    }
   ],
   "source": [
    "df3['Group'].value_counts()"
   ]
  },
  {
   "cell_type": "code",
   "execution_count": 69,
   "metadata": {},
   "outputs": [
    {
     "data": {
      "text/plain": [
       "(235, 303)"
      ]
     },
     "execution_count": 69,
     "metadata": {},
     "output_type": "execute_result"
    }
   ],
   "source": [
    "df3.shape"
   ]
  },
  {
   "cell_type": "code",
   "execution_count": 97,
   "metadata": {},
   "outputs": [],
   "source": [
    "SAD = df3[df3['Group']== 1]\n",
    "HC = df3[df3['Group']== 2]"
   ]
  },
  {
   "cell_type": "code",
   "execution_count": 72,
   "metadata": {},
   "outputs": [],
   "source": [
    "df4 = df3.dropna(subset=['BDI_Total ','LSAS_Total '])"
   ]
  },
  {
   "cell_type": "code",
   "execution_count": 98,
   "metadata": {},
   "outputs": [
    {
     "data": {
      "text/plain": [
       "1    140\n",
       "2     95\n",
       "Name: Group, dtype: int64"
      ]
     },
     "execution_count": 98,
     "metadata": {},
     "output_type": "execute_result"
    }
   ],
   "source": [
    "df3['Group'].value_counts()"
   ]
  },
  {
   "cell_type": "code",
   "execution_count": 103,
   "metadata": {},
   "outputs": [
    {
     "data": {
      "text/plain": [
       "2.0    98\n",
       "1.0    42\n",
       "Name: Gender, dtype: int64"
      ]
     },
     "execution_count": 103,
     "metadata": {},
     "output_type": "execute_result"
    }
   ],
   "source": [
    "SAD['Gender'].value_counts()"
   ]
  },
  {
   "cell_type": "code",
   "execution_count": 104,
   "metadata": {},
   "outputs": [
    {
     "data": {
      "text/plain": [
       "2.0    57\n",
       "1.0    36\n",
       "Name: Gender, dtype: int64"
      ]
     },
     "execution_count": 104,
     "metadata": {},
     "output_type": "execute_result"
    }
   ],
   "source": [
    "HC['Gender'].value_counts()"
   ]
  },
  {
   "cell_type": "code",
   "execution_count": null,
   "metadata": {},
   "outputs": [],
   "source": []
  },
  {
   "cell_type": "code",
   "execution_count": 28,
   "metadata": {},
   "outputs": [],
   "source": [
    "cols = df3.loc[:,'lh_bankssts_thickness':].columns"
   ]
  },
  {
   "cell_type": "code",
   "execution_count": null,
   "metadata": {},
   "outputs": [],
   "source": [
    "for column in cols:\n",
    "    test = ttest_ind(SAD[column], HC[column])\n",
    "    print(column, test.statistic, test.pvalue)"
   ]
  },
  {
   "cell_type": "code",
   "execution_count": 75,
   "metadata": {},
   "outputs": [],
   "source": [
    "sig_cols = ['lh_cuneus_thickness', 'lh_rostralanteriorcingulate_thickness', 'rh_cuneus_thickness', 'rh_pericalcarine_thickness', \n",
    "            'rh_precuneus_thickness', 'rh_superiorparietal_thickness', 'rh_lingual_area', 'rh_pericalcarine_area', 'rh_precentral_area',\n",
    "            'lh_cuneus_area', 'lh_pericalcarine_area', 'rh_frontalpole_meancurv', 'lh_medialorbitofrontal_meancurv', 'lh_frontalpole_meancurv',\n",
    "            'CC_Central', 'CC_Mid_Anterior', 'LeftHipp1', 'LeftHipp2', 'LeftHipp3', 'PostSal']"
   ]
  },
  {
   "cell_type": "code",
   "execution_count": 78,
   "metadata": {},
   "outputs": [
    {
     "data": {
      "text/plain": [
       "Index(['Subject', 'SAD (Yes=1)', 'LSAS_Total Score', 'SIAS_Total Score',\n",
       "       'Group', 'Study (1=ABM, 2=PSPC, 3=Shared)', 'meanFD', 'Include',\n",
       "       'lh_bankssts_thickness', 'lh_caudalanteriorcingulate_thickness',\n",
       "       ...\n",
       "       'BrainSegVol-to-eTIV', 'MaskVol-to-eTIV', 'lhSurfaceHoles',\n",
       "       'rhSurfaceHoles', 'SurfaceHoles', 'EstimatedTotalIntraCranialVol',\n",
       "       'LHipp1', 'LHipp2', 'LHipp3', 'PostSal'],\n",
       "      dtype='object', length=298)"
      ]
     },
     "execution_count": 78,
     "metadata": {},
     "output_type": "execute_result"
    }
   ],
   "source": [
    "df4.columns"
   ]
  },
  {
   "cell_type": "code",
   "execution_count": 87,
   "metadata": {},
   "outputs": [],
   "source": [
    "SAD = df4[df4['Group']== 1]\n",
    "HC = df4[df4['Group']== 2]"
   ]
  },
  {
   "cell_type": "code",
   "execution_count": 91,
   "metadata": {},
   "outputs": [
    {
     "data": {
      "text/plain": [
       "82"
      ]
     },
     "execution_count": 91,
     "metadata": {},
     "output_type": "execute_result"
    }
   ],
   "source": [
    "len(HC)"
   ]
  },
  {
   "cell_type": "code",
   "execution_count": 76,
   "metadata": {},
   "outputs": [
    {
     "name": "stdout",
     "output_type": "stream",
     "text": [
      "lh_cuneus_thickness LSAS pearsonr, p-val: (0.14306090156453288, 0.048943227602140094)\n",
      "lh_cuneus_thickness BDI pearsonr, p-val: (0.17851644708096237, 0.013729309147634192)\n",
      "lh_rostralanteriorcingulate_thickness LSAS pearsonr, p-val: (-0.11659138039070145, 0.10916349727527191)\n",
      "lh_rostralanteriorcingulate_thickness BDI pearsonr, p-val: (-0.21741835451016722, 0.0025845885385046953)\n",
      "rh_cuneus_thickness LSAS pearsonr, p-val: (0.15445283237270654, 0.03336022788262833)\n",
      "rh_cuneus_thickness BDI pearsonr, p-val: (0.20909514263998652, 0.00378879388713008)\n",
      "rh_pericalcarine_thickness LSAS pearsonr, p-val: (0.07871278631772222, 0.2803662445528647)\n",
      "rh_pericalcarine_thickness BDI pearsonr, p-val: (0.09461179078112349, 0.1941354133051208)\n",
      "rh_precuneus_thickness LSAS pearsonr, p-val: (0.0949930117365369, 0.1923366332080412)\n",
      "rh_precuneus_thickness BDI pearsonr, p-val: (0.14008414757915905, 0.05389237505626822)\n",
      "rh_superiorparietal_thickness LSAS pearsonr, p-val: (0.0867928925582278, 0.23376702128948668)\n",
      "rh_superiorparietal_thickness BDI pearsonr, p-val: (0.13225382614499376, 0.06891726918401754)\n",
      "rh_lingual_area LSAS pearsonr, p-val: (0.1292136809086754, 0.07560271657711096)\n",
      "rh_lingual_area BDI pearsonr, p-val: (0.13836407541075918, 0.056936386171746775)\n",
      "rh_pericalcarine_area LSAS pearsonr, p-val: (0.18971688895477662, 0.008750183692685204)\n",
      "rh_pericalcarine_area BDI pearsonr, p-val: (0.20795362175613666, 0.003988505872588496)\n",
      "rh_precentral_area LSAS pearsonr, p-val: (0.05619761828160093, 0.4412240696712618)\n",
      "rh_precentral_area BDI pearsonr, p-val: (0.09639297557608836, 0.18583522381952666)\n",
      "lh_cuneus_area LSAS pearsonr, p-val: (0.17623448196253957, 0.015004831377073927)\n",
      "lh_cuneus_area BDI pearsonr, p-val: (0.19237057137170782, 0.007836610706376581)\n",
      "lh_pericalcarine_area LSAS pearsonr, p-val: (0.18685727572143407, 0.009839188242532989)\n",
      "lh_pericalcarine_area BDI pearsonr, p-val: (0.2280688310709837, 0.0015519924469320605)\n",
      "rh_frontalpole_meancurv LSAS pearsonr, p-val: (-0.0669225660145679, 0.3589301464612042)\n",
      "rh_frontalpole_meancurv BDI pearsonr, p-val: (-0.08134186586450202, 0.26456290047158343)\n",
      "lh_medialorbitofrontal_meancurv LSAS pearsonr, p-val: (-0.11815929380752496, 0.10444868142059585)\n",
      "lh_medialorbitofrontal_meancurv BDI pearsonr, p-val: (-0.11466948544197414, 0.11516866490544955)\n",
      "lh_frontalpole_meancurv LSAS pearsonr, p-val: (-0.16040004477535874, 0.02705621043906404)\n",
      "lh_frontalpole_meancurv BDI pearsonr, p-val: (-0.12938115392449667, 0.07522125034519375)\n",
      "CC_Central LSAS pearsonr, p-val: (0.19323432037686583, 0.007558099761339346)\n",
      "CC_Central BDI pearsonr, p-val: (0.143575621597442, 0.04812707089296614)\n",
      "CC_Mid_Anterior LSAS pearsonr, p-val: (0.28962294027293956, 5.055566273410692e-05)\n",
      "CC_Mid_Anterior BDI pearsonr, p-val: (0.22697322765836164, 0.0016373584159133832)\n",
      "LeftHipp1 LSAS pearsonr, p-val: (0.16148409213111914, 0.026024547932075925)\n",
      "LeftHipp1 BDI pearsonr, p-val: (0.18184933472417691, 0.012037204608239628)\n",
      "LeftHipp2 LSAS pearsonr, p-val: (0.21890628495416384, 0.0024102024659095203)\n",
      "LeftHipp2 BDI pearsonr, p-val: (0.21705517429923407, 0.0026288552369561416)\n",
      "LeftHipp3 LSAS pearsonr, p-val: (0.18534457252569733, 0.010462369590606585)\n",
      "LeftHipp3 BDI pearsonr, p-val: (0.16359860400677131, 0.02410901752808236)\n",
      "PostSal LSAS pearsonr, p-val: (0.19171923308235883, 0.008052624850492239)\n",
      "PostSal BDI pearsonr, p-val: (0.20835797046763865, 0.003916704730257903)\n"
     ]
    }
   ],
   "source": [
    "for column in sig_cols:\n",
    "    LSAS_corr = pearsonr(df4['LSAS_Total '], df4[column])\n",
    "    BDI_corr = pearsonr(df4['BDI_Total '], df4[column])\n",
    "    print(column, \"LSAS pearsonr, p-val:\", LSAS_corr)\n",
    "    print(column, \"BDI pearsonr, p-val:\", BDI_corr)"
   ]
  },
  {
   "cell_type": "code",
   "execution_count": 88,
   "metadata": {},
   "outputs": [
    {
     "name": "stdout",
     "output_type": "stream",
     "text": [
      "lh_cuneus_thickness LSAS pearsonr, p-val: (0.22328991256725983, 0.020184268594055102)\n",
      "lh_cuneus_thickness BDI pearsonr, p-val: (0.23799677579528214, 0.013127044124079465)\n",
      "lh_rostralanteriorcingulate_thickness LSAS pearsonr, p-val: (-0.11788775859953676, 0.224323393594924)\n",
      "lh_rostralanteriorcingulate_thickness BDI pearsonr, p-val: (-0.32045387544510895, 0.0007218867425679442)\n",
      "rh_cuneus_thickness LSAS pearsonr, p-val: (0.07721305430146808, 0.4270375538850835)\n",
      "rh_cuneus_thickness BDI pearsonr, p-val: (0.22831726494116172, 0.017472336928074872)\n",
      "rh_pericalcarine_thickness LSAS pearsonr, p-val: (0.160016299474734, 0.09807351931521482)\n",
      "rh_pericalcarine_thickness BDI pearsonr, p-val: (0.1629245882163689, 0.09203939159914844)\n",
      "rh_precuneus_thickness LSAS pearsonr, p-val: (0.15063671094171333, 0.11967471964725619)\n",
      "rh_precuneus_thickness BDI pearsonr, p-val: (0.19948941677775933, 0.03846311554393436)\n",
      "rh_superiorparietal_thickness LSAS pearsonr, p-val: (0.18011942406267126, 0.06213071595509554)\n",
      "rh_superiorparietal_thickness BDI pearsonr, p-val: (0.2302246355913553, 0.01652913747836812)\n",
      "rh_lingual_area LSAS pearsonr, p-val: (0.0718847271983122, 0.45971731334196886)\n",
      "rh_lingual_area BDI pearsonr, p-val: (0.1263154870237321, 0.1926913178018439)\n",
      "rh_pericalcarine_area LSAS pearsonr, p-val: (0.12989523381721432, 0.1802819656112837)\n",
      "rh_pericalcarine_area BDI pearsonr, p-val: (0.17992348531755464, 0.06242024601345255)\n",
      "rh_precentral_area LSAS pearsonr, p-val: (-0.09390640397291716, 0.3337008132694035)\n",
      "rh_precentral_area BDI pearsonr, p-val: (0.08397637205612281, 0.3875435575680048)\n",
      "lh_cuneus_area LSAS pearsonr, p-val: (0.028541994343482945, 0.76934989858826)\n",
      "lh_cuneus_area BDI pearsonr, p-val: (0.13131127874366622, 0.1755382651305647)\n",
      "lh_pericalcarine_area LSAS pearsonr, p-val: (0.07412957518489942, 0.44578384113458075)\n",
      "lh_pericalcarine_area BDI pearsonr, p-val: (0.21128104003468368, 0.028164352797260032)\n",
      "rh_frontalpole_meancurv LSAS pearsonr, p-val: (0.11532729034311166, 0.23462047126113686)\n",
      "rh_frontalpole_meancurv BDI pearsonr, p-val: (-0.015138343813696307, 0.8764267183475883)\n",
      "lh_medialorbitofrontal_meancurv LSAS pearsonr, p-val: (-0.18532005671865912, 0.05483771647788193)\n",
      "lh_medialorbitofrontal_meancurv BDI pearsonr, p-val: (-0.14693326198157863, 0.1291516350278318)\n",
      "lh_frontalpole_meancurv LSAS pearsonr, p-val: (-0.08458740977381049, 0.38408699090906595)\n",
      "lh_frontalpole_meancurv BDI pearsonr, p-val: (-0.051729358228288946, 0.5949421133546209)\n",
      "CC_Central LSAS pearsonr, p-val: (0.05149546659025443, 0.5966106844791628)\n",
      "CC_Central BDI pearsonr, p-val: (0.009170756953177747, 0.9249516479432436)\n",
      "CC_Mid_Anterior LSAS pearsonr, p-val: (0.09966310967781475, 0.30478076161214324)\n",
      "CC_Mid_Anterior BDI pearsonr, p-val: (0.02936444947595738, 0.7628972131190234)\n",
      "LeftHipp1 LSAS pearsonr, p-val: (-0.005497584693857027, 0.9549688343460342)\n",
      "LeftHipp1 BDI pearsonr, p-val: (0.08557153042892976, 0.3785591896735642)\n",
      "LeftHipp2 LSAS pearsonr, p-val: (0.09220917048015848, 0.3425497715100436)\n",
      "LeftHipp2 BDI pearsonr, p-val: (0.1454309181820206, 0.133155920809679)\n",
      "LeftHipp3 LSAS pearsonr, p-val: (0.006675848010079644, 0.9453311699557417)\n",
      "LeftHipp3 BDI pearsonr, p-val: (0.05370071073265137, 0.5809628524419179)\n",
      "PostSal LSAS pearsonr, p-val: (0.10523041773876758, 0.27842068323741265)\n",
      "PostSal BDI pearsonr, p-val: (0.18714470278730666, 0.05245202647322706)\n"
     ]
    }
   ],
   "source": [
    "for column in sig_cols:\n",
    "    LSAS_corr = pearsonr(SAD['LSAS_Total '], SAD[column])\n",
    "    BDI_corr = pearsonr(SAD['BDI_Total '], SAD[column])\n",
    "    print(column, \"LSAS pearsonr, p-val:\", LSAS_corr)\n",
    "    print(column, \"BDI pearsonr, p-val:\", BDI_corr)"
   ]
  },
  {
   "cell_type": "code",
   "execution_count": 89,
   "metadata": {},
   "outputs": [
    {
     "name": "stdout",
     "output_type": "stream",
     "text": [
      "lh_cuneus_thickness LSAS pearsonr, p-val: (-0.03180043512110674, 0.776704598206506)\n",
      "lh_cuneus_thickness BDI pearsonr, p-val: (-0.15495439869698416, 0.16451610378808093)\n",
      "lh_rostralanteriorcingulate_thickness LSAS pearsonr, p-val: (0.02591591284378414, 0.8172257703682225)\n",
      "lh_rostralanteriorcingulate_thickness BDI pearsonr, p-val: (0.04766076477312958, 0.6706889342264373)\n",
      "rh_cuneus_thickness LSAS pearsonr, p-val: (0.026871637642843435, 0.810608844662463)\n",
      "rh_cuneus_thickness BDI pearsonr, p-val: (-0.1098218184574536, 0.32600794782684006)\n",
      "rh_pericalcarine_thickness LSAS pearsonr, p-val: (0.1030410807793967, 0.356942189099843)\n",
      "rh_pericalcarine_thickness BDI pearsonr, p-val: (-0.07231887169136472, 0.5184944680210049)\n",
      "rh_precuneus_thickness LSAS pearsonr, p-val: (-0.0247265314749881, 0.8254782404270034)\n",
      "rh_precuneus_thickness BDI pearsonr, p-val: (-0.06960483307461644, 0.534351865431256)\n",
      "rh_superiorparietal_thickness LSAS pearsonr, p-val: (0.12372384888223627, 0.26810866623243806)\n",
      "rh_superiorparietal_thickness BDI pearsonr, p-val: (0.06587682591552603, 0.5565179972061618)\n",
      "rh_lingual_area LSAS pearsonr, p-val: (0.13749350908510555, 0.2180228428867156)\n",
      "rh_lingual_area BDI pearsonr, p-val: (-0.017951570329676675, 0.8728214649743725)\n",
      "rh_pericalcarine_area LSAS pearsonr, p-val: (0.11178758110358807, 0.3173698421566421)\n",
      "rh_pericalcarine_area BDI pearsonr, p-val: (-0.012456361175481663, 0.9115610116327295)\n",
      "rh_precentral_area LSAS pearsonr, p-val: (0.06503567713127105, 0.561579449554557)\n",
      "rh_precentral_area BDI pearsonr, p-val: (-0.08325660029349921, 0.4570949612305812)\n",
      "lh_cuneus_area LSAS pearsonr, p-val: (0.044904685198808365, 0.6887228542268655)\n",
      "lh_cuneus_area BDI pearsonr, p-val: (-0.14594315200914482, 0.19077154267777965)\n",
      "lh_pericalcarine_area LSAS pearsonr, p-val: (0.17469133960180186, 0.1164829280417891)\n",
      "lh_pericalcarine_area BDI pearsonr, p-val: (-0.03360901033902438, 0.7643640560596152)\n",
      "rh_frontalpole_meancurv LSAS pearsonr, p-val: (-0.14129069114911114, 0.20545494622665897)\n",
      "rh_frontalpole_meancurv BDI pearsonr, p-val: (-0.09284484482445862, 0.40674639768892756)\n",
      "lh_medialorbitofrontal_meancurv LSAS pearsonr, p-val: (-0.27884592043286455, 0.011186284755339386)\n",
      "lh_medialorbitofrontal_meancurv BDI pearsonr, p-val: (-0.17346824323592336, 0.11910342767376911)\n",
      "lh_frontalpole_meancurv LSAS pearsonr, p-val: (-0.10234947909795078, 0.36019611064250295)\n",
      "lh_frontalpole_meancurv BDI pearsonr, p-val: (-0.0431316260424586, 0.7004177803718273)\n",
      "CC_Central LSAS pearsonr, p-val: (0.12230130284496565, 0.273692547376322)\n",
      "CC_Central BDI pearsonr, p-val: (0.10902061892659974, 0.32957124612025956)\n",
      "CC_Mid_Anterior LSAS pearsonr, p-val: (0.10585129537634971, 0.34390814366362604)\n",
      "CC_Mid_Anterior BDI pearsonr, p-val: (0.19436173899276235, 0.0801652133610412)\n",
      "LeftHipp1 LSAS pearsonr, p-val: (-0.17747958526752167, 0.1106753370380271)\n",
      "LeftHipp1 BDI pearsonr, p-val: (-0.0984900932256498, 0.3786877090085134)\n",
      "LeftHipp2 LSAS pearsonr, p-val: (0.01753641612498373, 0.8757389156917857)\n",
      "LeftHipp2 BDI pearsonr, p-val: (-0.09126198112484951, 0.414826804874992)\n",
      "LeftHipp3 LSAS pearsonr, p-val: (0.1052713752839183, 0.3465731537320451)\n",
      "LeftHipp3 BDI pearsonr, p-val: (-0.01911330558885524, 0.8646666326601057)\n",
      "PostSal LSAS pearsonr, p-val: (0.1733779893482295, 0.11929857911376261)\n",
      "PostSal BDI pearsonr, p-val: (-0.05006418871678979, 0.6551126337859515)\n"
     ]
    }
   ],
   "source": [
    "for column in sig_cols:\n",
    "    LSAS_corr = pearsonr(HC['LSAS_Total '], HC[column])\n",
    "    BDI_corr = pearsonr(HC['BDI_Total '], HC[column])\n",
    "    print(column, \"LSAS pearsonr, p-val:\", LSAS_corr)\n",
    "    print(column, \"BDI pearsonr, p-val:\", BDI_corr)"
   ]
  },
  {
   "cell_type": "code",
   "execution_count": 85,
   "metadata": {},
   "outputs": [
    {
     "data": {
      "text/plain": [
       "<seaborn.axisgrid.FacetGrid at 0x1a1d707d10>"
      ]
     },
     "execution_count": 85,
     "metadata": {},
     "output_type": "execute_result"
    },
    {
     "data": {
      "image/png": "[encoded data removed]",
      "text/plain": [
       "<Figure size 405.725x360 with 1 Axes>"
      ]
     },
     "metadata": {},
     "output_type": "display_data"
    }
   ],
   "source": [
    "sns.set()\n",
    "\n",
    "p1= sns.lmplot(x=\"PostSal\", y=\"BDI_Total \", hue=\"Group\", data=df4)\n",
    "p1.set_axis_labels(\"PostSal func ROI\", \"BDI_Total\")"
   ]
  },
  {
   "cell_type": "code",
   "execution_count": 86,
   "metadata": {},
   "outputs": [
    {
     "data": {
      "text/plain": [
       "<seaborn.axisgrid.FacetGrid at 0x1a1d74f610>"
      ]
     },
     "execution_count": 86,
     "metadata": {},
     "output_type": "execute_result"
    },
    {
     "data": {
      "image/png": "[encoded data removed]",
      "text/plain": [
       "<Figure size 405.725x360 with 1 Axes>"
      ]
     },
     "metadata": {},
     "output_type": "display_data"
    }
   ],
   "source": [
    "p2 = sns.lmplot(x=\"PostSal\", y=\"LSAS_Total \", hue=\"Group\", data=df4)\n",
    "p2.set_axis_labels(\"PostSal func ROI\", \"LSAS_Total\")"
   ]
  },
  {
   "cell_type": "code",
   "execution_count": 77,
   "metadata": {},
   "outputs": [
    {
     "data": {
      "text/plain": [
       "190"
      ]
     },
     "execution_count": 77,
     "metadata": {},
     "output_type": "execute_result"
    }
   ],
   "source": [
    "len(df4)"
   ]
  },
  {
   "cell_type": "code",
   "execution_count": null,
   "metadata": {},
   "outputs": [],
   "source": []
  }
 ],
 "metadata": {
  "kernelspec": {
   "display_name": "Python 3",
   "language": "python",
   "name": "python3"
  },
  "language_info": {
   "codemirror_mode": {
    "name": "ipython",
    "version": 3
   },
   "file_extension": ".py",
   "mimetype": "text/x-python",
   "name": "python",
   "nbconvert_exporter": "python",
   "pygments_lexer": "ipython3",
   "version": "3.7.4"
  }
 },
 "nbformat": 4,
 "nbformat_minor": 4
}
