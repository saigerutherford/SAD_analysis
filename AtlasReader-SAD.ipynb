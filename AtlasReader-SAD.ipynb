{
 "cells": [
  {
   "cell_type": "code",
   "execution_count": 1,
   "metadata": {},
   "outputs": [],
   "source": [
    "%matplotlib inline"
   ]
  },
  {
   "cell_type": "code",
   "execution_count": 2,
   "metadata": {},
   "outputs": [
    {
     "name": "stdout",
     "output_type": "stream",
     "text": [
      "The Python package you are importing, AtlasReader, is licensed under the\n",
      "BSD-3 license; however, the atlases it uses are separately licensed under more\n",
      "restrictive frameworks.\n",
      "By using AtlasReader, you agree to abide by the license terms of the\n",
      "individual atlases. Information on these terms can be found online at:\n",
      "https://github.com/miykael/atlasreader/tree/master/atlasreader/data\n",
      "\n"
     ]
    }
   ],
   "source": [
    "import nibabel as nib\n",
    "from atlasreader import create_output"
   ]
  },
  {
   "cell_type": "code",
   "execution_count": 3,
   "metadata": {},
   "outputs": [],
   "source": [
    "amyg212 = nib.load('SAD_seedmap_results/significant_results_BNA/amyg212_HCvsSAD.nii')\n",
    "amyg214 = nib.load('SAD_seedmap_results/significant_results_BNA/amyg214_HCvsSAD.nii')\n",
    "insula163 = nib.load('SAD_seedmap_results/significant_results_BNA/insula163_HCvsSAD.nii')\n",
    "parahipp115 = nib.load('SAD_seedmap_results/significant_results_BNA/parahipp115_HCvsSAD.nii')\n",
    "parahipp116 = nib.load('SAD_seedmap_results/significant_results_BNA/parahipp116_HCvsSAD.nii')\n",
    "parahipp118 = nib.load('SAD_seedmap_results/significant_results_BNA/parahipp118_HCvsSAD.nii')\n",
    "pcc152 = nib.load('SAD_seedmap_results/significant_results_BNA/pcc152_HCvsSAD.nii')\n",
    "precentral64 = nib.load('SAD_seedmap_results/significant_results_BNA/precentral64_HCvsSAD.nii')"
   ]
  },
  {
   "cell_type": "code",
   "execution_count": null,
   "metadata": {},
   "outputs": [],
   "source": [
    "create_output(amyg212, cluster_extent=112,outdir='atlasreader/amyg212')"
   ]
  },
  {
   "cell_type": "code",
   "execution_count": null,
   "metadata": {},
   "outputs": [],
   "source": [
    "create_output(insula163, cluster_extent=87,outdir='atlasreader/insula163')"
   ]
  },
  {
   "cell_type": "code",
   "execution_count": null,
   "metadata": {},
   "outputs": [],
   "source": [
    "create_output(parahipp115, cluster_extent=100,outdir='atlasreader/parahipp115')"
   ]
  },
  {
   "cell_type": "code",
   "execution_count": null,
   "metadata": {},
   "outputs": [],
   "source": [
    "create_output(parahipp116, cluster_extent=87,outdir='atlasreader/parahipp116')"
   ]
  },
  {
   "cell_type": "code",
   "execution_count": null,
   "metadata": {},
   "outputs": [],
   "source": [
    "create_output(parahipp118, cluster_extent=80,outdir='atlasreader/parahipp118')"
   ]
  },
  {
   "cell_type": "code",
   "execution_count": null,
   "metadata": {},
   "outputs": [],
   "source": [
    "create_output(pcc152, cluster_extent=117,outdir='atlasreader/pcc152')"
   ]
  },
  {
   "cell_type": "code",
   "execution_count": null,
   "metadata": {},
   "outputs": [],
   "source": [
    "create_output(precentral64, cluster_extent=91,outdir='atlasreader/precentral64')"
   ]
  }
 ],
 "metadata": {
  "kernelspec": {
   "display_name": "Python 3",
   "language": "python",
   "name": "python3"
  },
  "language_info": {
   "codemirror_mode": {
    "name": "ipython",
    "version": 3
   },
   "file_extension": ".py",
   "mimetype": "text/x-python",
   "name": "python",
   "nbconvert_exporter": "python",
   "pygments_lexer": "ipython3",
   "version": "3.7.4"
  }
 },
 "nbformat": 4,
 "nbformat_minor": 4
}
